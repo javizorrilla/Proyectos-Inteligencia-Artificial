{
 "cells": [
  {
   "cell_type": "code",
   "execution_count": 1,
   "id": "68e90ffb",
   "metadata": {},
   "outputs": [],
   "source": [
    "import pandas as pd\n",
    "import numpy as np"
   ]
  },
  {
   "cell_type": "code",
   "execution_count": 2,
   "id": "e0874f48",
   "metadata": {},
   "outputs": [],
   "source": [
    "from sklearn.linear_model import LogisticRegression \n",
    "from sklearn.model_selection import train_test_split"
   ]
  },
  {
   "cell_type": "code",
   "execution_count": 3,
   "id": "ee1b61fd",
   "metadata": {},
   "outputs": [
    {
     "name": "stdout",
     "output_type": "stream",
     "text": [
      "    Edad  NoInternet  Internet\n",
      "0     18           1        31\n",
      "1     19           1        28\n",
      "2     20           1        35\n",
      "3     21           2        26\n",
      "4     22           1        30\n",
      "..   ...         ...       ...\n",
      "74    92           3         0\n",
      "75    93           1         0\n",
      "76    94           2         0\n",
      "77    96           2         0\n",
      "78   101           1         0\n",
      "\n",
      "[79 rows x 3 columns]\n"
     ]
    }
   ],
   "source": [
    "datasetInternet = pd.read_excel(\"Internet.xlsx\")\n",
    "print(datasetInternet)"
   ]
  },
  {
   "cell_type": "code",
   "execution_count": 5,
   "id": "354e4c5c",
   "metadata": {},
   "outputs": [
    {
     "name": "stdout",
     "output_type": "stream",
     "text": [
      "    Edad  NoInternet  Internet Edades_Categóricas\n",
      "0     18           1        31       Adulto joven\n",
      "1     19           1        28       Adulto joven\n",
      "2     20           1        35       Adulto joven\n",
      "3     21           2        26       Adulto joven\n",
      "4     22           1        30       Adulto joven\n",
      "..   ...         ...       ...                ...\n",
      "74    92           3         0           Jubilado\n",
      "75    93           1         0           Jubilado\n",
      "76    94           2         0           Jubilado\n",
      "77    96           2         0           Jubilado\n",
      "78   101           1         0           Jubilado\n",
      "\n",
      "[79 rows x 4 columns]\n"
     ]
    }
   ],
   "source": [
    "# According to age, there are 3 categorical variables: young adult (age < 41), adult (age < 66) and retired (none of the previous two).\n",
    "datasetInternet['Edades_Categóricas'] = np.where(datasetInternet['Edad'] <= 40, 'Adulto joven', (np.where(datasetInternet['Edad'] <= 65, 'Adulto', 'Jubilado')))\n",
    "print(datasetInternet)"
   ]
  },
  {
   "cell_type": "code",
   "execution_count": 13,
   "id": "c2ba8577",
   "metadata": {},
   "outputs": [
    {
     "data": {
      "text/html": [
       "<div>\n",
       "<style scoped>\n",
       "    .dataframe tbody tr th:only-of-type {\n",
       "        vertical-align: middle;\n",
       "    }\n",
       "\n",
       "    .dataframe tbody tr th {\n",
       "        vertical-align: top;\n",
       "    }\n",
       "\n",
       "    .dataframe thead th {\n",
       "        text-align: right;\n",
       "    }\n",
       "</style>\n",
       "<table border=\"1\" class=\"dataframe\">\n",
       "  <thead>\n",
       "    <tr style=\"text-align: right;\">\n",
       "      <th></th>\n",
       "      <th>Edades_Categóricas</th>\n",
       "      <th>Internet</th>\n",
       "    </tr>\n",
       "  </thead>\n",
       "  <tbody>\n",
       "    <tr>\n",
       "      <th>1</th>\n",
       "      <td>Adulto joven</td>\n",
       "      <td>40.09</td>\n",
       "    </tr>\n",
       "    <tr>\n",
       "      <th>0</th>\n",
       "      <td>Adulto</td>\n",
       "      <td>26.04</td>\n",
       "    </tr>\n",
       "    <tr>\n",
       "      <th>2</th>\n",
       "      <td>Jubilado</td>\n",
       "      <td>1.87</td>\n",
       "    </tr>\n",
       "  </tbody>\n",
       "</table>\n",
       "</div>"
      ],
      "text/plain": [
       "  Edades_Categóricas  Internet\n",
       "1       Adulto joven     40.09\n",
       "0             Adulto     26.04\n",
       "2           Jubilado      1.87"
      ]
     },
     "execution_count": 13,
     "metadata": {},
     "output_type": "execute_result"
    }
   ],
   "source": [
    "# According to the categorical ages, the percentage of people, with that age, who have Internet, out of the total of that group, is calculated.\n",
    "datasetInternet[['Internet', 'Edades_Categóricas']].groupby(['Edades_Categóricas'], as_index=False).mean().sort_values(by='Internet', ascending=False).round(2)"
   ]
  },
  {
   "cell_type": "code",
   "execution_count": 8,
   "id": "aa5f2d57",
   "metadata": {
    "scrolled": false
   },
   "outputs": [
    {
     "name": "stdout",
     "output_type": "stream",
     "text": [
      "['Adulto joven' 'Adulto joven' 'Adulto joven' 'Adulto joven'\n",
      " 'Adulto joven' 'Adulto joven' 'Adulto joven' 'Adulto joven'\n",
      " 'Adulto joven' 'Adulto joven' 'Adulto joven' 'Adulto joven'\n",
      " 'Adulto joven' 'Adulto joven' 'Adulto joven' 'Adulto joven' 'Adulto'\n",
      " 'Adulto joven' 'Adulto joven' 'Adulto joven' 'Adulto joven' 'Adulto'\n",
      " 'Adulto' 'Adulto' 'Adulto' 'Adulto' 'Adulto joven' 'Adulto' 'Adulto'\n",
      " 'Adulto' 'Adulto' 'Adulto' 'Adulto' 'Adulto' 'Adulto' 'Adulto' 'Adulto'\n",
      " 'Adulto' 'Adulto' 'Adulto' 'Adulto' 'Adulto' 'Adulto' 'Adulto' 'Adulto'\n",
      " 'Adulto' 'Adulto' 'Adulto' 'Jubilado' 'Jubilado' 'Jubilado' 'Jubilado'\n",
      " 'Jubilado' 'Jubilado' 'Jubilado' 'Jubilado' 'Jubilado' 'Jubilado'\n",
      " 'Jubilado' 'Jubilado' 'Jubilado' 'Jubilado' 'Jubilado' 'Jubilado'\n",
      " 'Jubilado' 'Jubilado' 'Jubilado' 'Jubilado' 'Jubilado' 'Jubilado'\n",
      " 'Jubilado' 'Jubilado' 'Jubilado' 'Jubilado' 'Jubilado' 'Jubilado'\n",
      " 'Jubilado' 'Jubilado' 'Jubilado']\n"
     ]
    },
    {
     "name": "stderr",
     "output_type": "stream",
     "text": [
      "C:\\Users\\zorri\\AppData\\Local\\Temp/ipykernel_14660/2595916870.py:1: FutureWarning: In a future version of pandas all arguments of DataFrame.drop except for the argument 'labels' will be keyword-only\n",
      "  X = np.array(datasetInternet.drop(['Edades_Categóricas'], 1))\n",
      "C:\\Users\\zorri\\anaconda3\\lib\\site-packages\\sklearn\\linear_model\\_logistic.py:763: ConvergenceWarning: lbfgs failed to converge (status=1):\n",
      "STOP: TOTAL NO. of ITERATIONS REACHED LIMIT.\n",
      "\n",
      "Increase the number of iterations (max_iter) or scale the data as shown in:\n",
      "    https://scikit-learn.org/stable/modules/preprocessing.html\n",
      "Please also refer to the documentation for alternative solver options:\n",
      "    https://scikit-learn.org/stable/modules/linear_model.html#logistic-regression\n",
      "  n_iter_i = _check_optimize_result(\n"
     ]
    }
   ],
   "source": [
    "X = np.array(datasetInternet.drop(['Edades_Categóricas'], 1))\n",
    "y = np.array(datasetInternet['Edades_Categóricas'])\n",
    "X_train, X_test, y_train, y_test = train_test_split(X, y, test_size=0.47, random_state=101)\n",
    "lrmodel = LogisticRegression()\n",
    "lrmodel.fit(X_train,y_train)\n",
    "predictions = lrmodel.predict(X)\n",
    "print(predictions)"
   ]
  },
  {
   "cell_type": "code",
   "execution_count": 14,
   "id": "f85083c8",
   "metadata": {},
   "outputs": [
    {
     "data": {
      "text/plain": [
       "0.949"
      ]
     },
     "execution_count": 14,
     "metadata": {},
     "output_type": "execute_result"
    }
   ],
   "source": [
    "lrmodel.score(X, y).round(3)"
   ]
  },
  {
   "cell_type": "code",
   "execution_count": null,
   "id": "e7db2638",
   "metadata": {},
   "outputs": [],
   "source": []
  }
 ],
 "metadata": {
  "kernelspec": {
   "display_name": "Python 3 (ipykernel)",
   "language": "python",
   "name": "python3"
  },
  "language_info": {
   "codemirror_mode": {
    "name": "ipython",
    "version": 3
   },
   "file_extension": ".py",
   "mimetype": "text/x-python",
   "name": "python",
   "nbconvert_exporter": "python",
   "pygments_lexer": "ipython3",
   "version": "3.9.7"
  }
 },
 "nbformat": 4,
 "nbformat_minor": 5
}
