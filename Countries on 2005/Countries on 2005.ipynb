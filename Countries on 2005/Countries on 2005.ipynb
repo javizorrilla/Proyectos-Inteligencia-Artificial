{
 "cells": [
  {
   "cell_type": "markdown",
   "id": "9cbb98b2",
   "metadata": {},
   "source": [
    "Firstly, libraries that will be needed later are imported, such as:\n",
    " - **Pandas**: Data manipulation library that provides data structures to handle and analyzed structured data.\n",
    " - **Numpy**: Numerical computations library like linear algebra.\n",
    " - **Seaborn**: Statistical data visualization library built of Matplotlib. \n",
    " - **Statsmodels**: Statistical modeling and hypothesis testing library.\n",
    " - **Matplotlib**: Library used for customizing plots."
   ]
  },
  {
   "cell_type": "code",
   "execution_count": 1,
   "id": "f6635ced",
   "metadata": {},
   "outputs": [],
   "source": [
    "import pandas as pd\n",
    "import numpy as np\n",
    "import seaborn as sns\n",
    "import statsmodels.formula.api as smf\n",
    "import matplotlib.pyplot as plt"
   ]
  },
  {
   "cell_type": "markdown",
   "id": "8b17b1a2",
   "metadata": {},
   "source": [
    "**This .CSV file contains data from the different countries of the 5 continents dating back to 2005**."
   ]
  },
  {
   "cell_type": "code",
   "execution_count": 2,
   "id": "edf0d420",
   "metadata": {
    "scrolled": true
   },
   "outputs": [
    {
     "data": {
      "text/html": [
       "<div>\n",
       "<style scoped>\n",
       "    .dataframe tbody tr th:only-of-type {\n",
       "        vertical-align: middle;\n",
       "    }\n",
       "\n",
       "    .dataframe tbody tr th {\n",
       "        vertical-align: top;\n",
       "    }\n",
       "\n",
       "    .dataframe thead th {\n",
       "        text-align: right;\n",
       "    }\n",
       "</style>\n",
       "<table border=\"1\" class=\"dataframe\">\n",
       "  <thead>\n",
       "    <tr style=\"text-align: right;\">\n",
       "      <th></th>\n",
       "      <th>Unnamed: 0</th>\n",
       "      <th>country</th>\n",
       "      <th>region</th>\n",
       "      <th>gdp</th>\n",
       "      <th>school</th>\n",
       "      <th>adfert</th>\n",
       "      <th>chldmort</th>\n",
       "      <th>life</th>\n",
       "      <th>pop</th>\n",
       "      <th>urban</th>\n",
       "      <th>femlab</th>\n",
       "      <th>literacy</th>\n",
       "      <th>co2</th>\n",
       "      <th>gini</th>\n",
       "    </tr>\n",
       "  </thead>\n",
       "  <tbody>\n",
       "    <tr>\n",
       "      <th>0</th>\n",
       "      <td>1</td>\n",
       "      <td>Algeria</td>\n",
       "      <td>Africa</td>\n",
       "      <td>7300.399902</td>\n",
       "      <td>6.716667</td>\n",
       "      <td>7.300000</td>\n",
       "      <td>34.75</td>\n",
       "      <td>72.316666</td>\n",
       "      <td>34172236</td>\n",
       "      <td>64.933334</td>\n",
       "      <td>0.4522</td>\n",
       "      <td>72.599998</td>\n",
       "      <td>15.0</td>\n",
       "      <td>NaN</td>\n",
       "    </tr>\n",
       "    <tr>\n",
       "      <th>1</th>\n",
       "      <td>2</td>\n",
       "      <td>Benin</td>\n",
       "      <td>Africa</td>\n",
       "      <td>1338.800049</td>\n",
       "      <td>3.100000</td>\n",
       "      <td>111.699997</td>\n",
       "      <td>122.75</td>\n",
       "      <td>54.733334</td>\n",
       "      <td>8237634</td>\n",
       "      <td>41.000000</td>\n",
       "      <td>0.8482</td>\n",
       "      <td>41.700001</td>\n",
       "      <td>1.2</td>\n",
       "      <td>NaN</td>\n",
       "    </tr>\n",
       "    <tr>\n",
       "      <th>2</th>\n",
       "      <td>3</td>\n",
       "      <td>Botswana</td>\n",
       "      <td>Africa</td>\n",
       "      <td>12307.400391</td>\n",
       "      <td>8.600000</td>\n",
       "      <td>52.099998</td>\n",
       "      <td>60.25</td>\n",
       "      <td>52.250000</td>\n",
       "      <td>1941233</td>\n",
       "      <td>59.250000</td>\n",
       "      <td>0.8870</td>\n",
       "      <td>84.099998</td>\n",
       "      <td>9.2</td>\n",
       "      <td>NaN</td>\n",
       "    </tr>\n",
       "    <tr>\n",
       "      <th>3</th>\n",
       "      <td>4</td>\n",
       "      <td>Burkina Faso</td>\n",
       "      <td>Africa</td>\n",
       "      <td>1063.400024</td>\n",
       "      <td>1.300000</td>\n",
       "      <td>124.800003</td>\n",
       "      <td>170.50</td>\n",
       "      <td>53.783333</td>\n",
       "      <td>15308383</td>\n",
       "      <td>23.583334</td>\n",
       "      <td>0.8584</td>\n",
       "      <td>23.600000</td>\n",
       "      <td>0.2</td>\n",
       "      <td>NaN</td>\n",
       "    </tr>\n",
       "    <tr>\n",
       "      <th>4</th>\n",
       "      <td>5</td>\n",
       "      <td>Burundi</td>\n",
       "      <td>Africa</td>\n",
       "      <td>349.200012</td>\n",
       "      <td>2.483333</td>\n",
       "      <td>18.600000</td>\n",
       "      <td>168.50</td>\n",
       "      <td>48.866665</td>\n",
       "      <td>7821783</td>\n",
       "      <td>10.250000</td>\n",
       "      <td>1.0344</td>\n",
       "      <td>66.599998</td>\n",
       "      <td>0.1</td>\n",
       "      <td>33.299999</td>\n",
       "    </tr>\n",
       "  </tbody>\n",
       "</table>\n",
       "</div>"
      ],
      "text/plain": [
       "   Unnamed: 0       country  region           gdp    school      adfert  \\\n",
       "0           1       Algeria  Africa   7300.399902  6.716667    7.300000   \n",
       "1           2         Benin  Africa   1338.800049  3.100000  111.699997   \n",
       "2           3      Botswana  Africa  12307.400391  8.600000   52.099998   \n",
       "3           4  Burkina Faso  Africa   1063.400024  1.300000  124.800003   \n",
       "4           5       Burundi  Africa    349.200012  2.483333   18.600000   \n",
       "\n",
       "   chldmort       life       pop      urban  femlab   literacy   co2  \\\n",
       "0     34.75  72.316666  34172236  64.933334  0.4522  72.599998  15.0   \n",
       "1    122.75  54.733334   8237634  41.000000  0.8482  41.700001   1.2   \n",
       "2     60.25  52.250000   1941233  59.250000  0.8870  84.099998   9.2   \n",
       "3    170.50  53.783333  15308383  23.583334  0.8584  23.600000   0.2   \n",
       "4    168.50  48.866665   7821783  10.250000  1.0344  66.599998   0.1   \n",
       "\n",
       "        gini  \n",
       "0        NaN  \n",
       "1        NaN  \n",
       "2        NaN  \n",
       "3        NaN  \n",
       "4  33.299999  "
      ]
     },
     "execution_count": 2,
     "metadata": {},
     "output_type": "execute_result"
    }
   ],
   "source": [
    "datasetNations = pd.read_csv(\"https://raw.githubusercontent.com/DireccionAcademicaADL/Nations-DB/main/nations.csv\", encoding = \"ISO-8859-1\")\n",
    "datasetNations.head()"
   ]
  },
  {
   "cell_type": "markdown",
   "id": "1e8b9a92",
   "metadata": {},
   "source": [
    "The data must be processed, both cleaning and preparation, for subsequent analysis and representation of the data. So:\n",
    " - Rename columns for easiest comprehension.\n",
    " - Drop column 'Unnamed: 0' because is uselss, it seems to be kind of index."
   ]
  },
  {
   "cell_type": "code",
   "execution_count": 3,
   "id": "bdb806b4",
   "metadata": {},
   "outputs": [],
   "source": [
    "# Rename columns, easiest comprehension\n",
    "datasetNations.rename(columns = {'gdp':'pib', 'school': 'years_school', 'gini': 'income_inequality', 'femlab': 'rate_M/W_laborMarket', 'pop': 'population', 'life': 'life_expectancy'}, inplace = True)"
   ]
  },
  {
   "cell_type": "code",
   "execution_count": 4,
   "id": "1fbdb3b2",
   "metadata": {
    "scrolled": false
   },
   "outputs": [
    {
     "data": {
      "text/html": [
       "<div>\n",
       "<style scoped>\n",
       "    .dataframe tbody tr th:only-of-type {\n",
       "        vertical-align: middle;\n",
       "    }\n",
       "\n",
       "    .dataframe tbody tr th {\n",
       "        vertical-align: top;\n",
       "    }\n",
       "\n",
       "    .dataframe thead th {\n",
       "        text-align: right;\n",
       "    }\n",
       "</style>\n",
       "<table border=\"1\" class=\"dataframe\">\n",
       "  <thead>\n",
       "    <tr style=\"text-align: right;\">\n",
       "      <th></th>\n",
       "      <th>country</th>\n",
       "      <th>region</th>\n",
       "      <th>pib</th>\n",
       "      <th>years_school</th>\n",
       "      <th>adfert</th>\n",
       "      <th>chldmort</th>\n",
       "      <th>life_expectancy</th>\n",
       "      <th>population</th>\n",
       "      <th>urban</th>\n",
       "      <th>rate_M/W_laborMarket</th>\n",
       "      <th>literacy</th>\n",
       "      <th>co2</th>\n",
       "      <th>income_inequality</th>\n",
       "    </tr>\n",
       "  </thead>\n",
       "  <tbody>\n",
       "    <tr>\n",
       "      <th>0</th>\n",
       "      <td>Algeria</td>\n",
       "      <td>Africa</td>\n",
       "      <td>7300.399902</td>\n",
       "      <td>6.716667</td>\n",
       "      <td>7.300000</td>\n",
       "      <td>34.75</td>\n",
       "      <td>72.316666</td>\n",
       "      <td>34172236</td>\n",
       "      <td>64.933334</td>\n",
       "      <td>0.4522</td>\n",
       "      <td>72.599998</td>\n",
       "      <td>15.0</td>\n",
       "      <td>NaN</td>\n",
       "    </tr>\n",
       "    <tr>\n",
       "      <th>1</th>\n",
       "      <td>Benin</td>\n",
       "      <td>Africa</td>\n",
       "      <td>1338.800049</td>\n",
       "      <td>3.100000</td>\n",
       "      <td>111.699997</td>\n",
       "      <td>122.75</td>\n",
       "      <td>54.733334</td>\n",
       "      <td>8237634</td>\n",
       "      <td>41.000000</td>\n",
       "      <td>0.8482</td>\n",
       "      <td>41.700001</td>\n",
       "      <td>1.2</td>\n",
       "      <td>NaN</td>\n",
       "    </tr>\n",
       "    <tr>\n",
       "      <th>2</th>\n",
       "      <td>Botswana</td>\n",
       "      <td>Africa</td>\n",
       "      <td>12307.400391</td>\n",
       "      <td>8.600000</td>\n",
       "      <td>52.099998</td>\n",
       "      <td>60.25</td>\n",
       "      <td>52.250000</td>\n",
       "      <td>1941233</td>\n",
       "      <td>59.250000</td>\n",
       "      <td>0.8870</td>\n",
       "      <td>84.099998</td>\n",
       "      <td>9.2</td>\n",
       "      <td>NaN</td>\n",
       "    </tr>\n",
       "    <tr>\n",
       "      <th>3</th>\n",
       "      <td>Burkina Faso</td>\n",
       "      <td>Africa</td>\n",
       "      <td>1063.400024</td>\n",
       "      <td>1.300000</td>\n",
       "      <td>124.800003</td>\n",
       "      <td>170.50</td>\n",
       "      <td>53.783333</td>\n",
       "      <td>15308383</td>\n",
       "      <td>23.583334</td>\n",
       "      <td>0.8584</td>\n",
       "      <td>23.600000</td>\n",
       "      <td>0.2</td>\n",
       "      <td>NaN</td>\n",
       "    </tr>\n",
       "    <tr>\n",
       "      <th>4</th>\n",
       "      <td>Burundi</td>\n",
       "      <td>Africa</td>\n",
       "      <td>349.200012</td>\n",
       "      <td>2.483333</td>\n",
       "      <td>18.600000</td>\n",
       "      <td>168.50</td>\n",
       "      <td>48.866665</td>\n",
       "      <td>7821783</td>\n",
       "      <td>10.250000</td>\n",
       "      <td>1.0344</td>\n",
       "      <td>66.599998</td>\n",
       "      <td>0.1</td>\n",
       "      <td>33.299999</td>\n",
       "    </tr>\n",
       "  </tbody>\n",
       "</table>\n",
       "</div>"
      ],
      "text/plain": [
       "        country  region           pib  years_school      adfert  chldmort  \\\n",
       "0       Algeria  Africa   7300.399902      6.716667    7.300000     34.75   \n",
       "1         Benin  Africa   1338.800049      3.100000  111.699997    122.75   \n",
       "2      Botswana  Africa  12307.400391      8.600000   52.099998     60.25   \n",
       "3  Burkina Faso  Africa   1063.400024      1.300000  124.800003    170.50   \n",
       "4       Burundi  Africa    349.200012      2.483333   18.600000    168.50   \n",
       "\n",
       "   life_expectancy  population      urban  rate_M/W_laborMarket   literacy  \\\n",
       "0        72.316666    34172236  64.933334                0.4522  72.599998   \n",
       "1        54.733334     8237634  41.000000                0.8482  41.700001   \n",
       "2        52.250000     1941233  59.250000                0.8870  84.099998   \n",
       "3        53.783333    15308383  23.583334                0.8584  23.600000   \n",
       "4        48.866665     7821783  10.250000                1.0344  66.599998   \n",
       "\n",
       "    co2  income_inequality  \n",
       "0  15.0                NaN  \n",
       "1   1.2                NaN  \n",
       "2   9.2                NaN  \n",
       "3   0.2                NaN  \n",
       "4   0.1          33.299999  "
      ]
     },
     "execution_count": 4,
     "metadata": {},
     "output_type": "execute_result"
    }
   ],
   "source": [
    "# Drop column 'Unnamed: 0', seems to be kind of index\n",
    "datasetNations.drop(columns = [\"Unnamed: 0\"], inplace = True)\n",
    "datasetNations.head()"
   ]
  },
  {
   "cell_type": "markdown",
   "id": "f9af7c6b",
   "metadata": {},
   "source": [
    "Print how much countries are in each continent."
   ]
  },
  {
   "cell_type": "code",
   "execution_count": 5,
   "id": "91dc0999",
   "metadata": {
    "scrolled": true
   },
   "outputs": [
    {
     "data": {
      "text/plain": [
       "Africa      52\n",
       "Asia        49\n",
       "Europe      43\n",
       "Americas    35\n",
       "Oceania     15\n",
       "Name: region, dtype: int64"
      ]
     },
     "execution_count": 5,
     "metadata": {},
     "output_type": "execute_result"
    }
   ],
   "source": [
    "# Number of countries in each region\n",
    "datasetNations[\"region\"].value_counts()"
   ]
  },
  {
   "cell_type": "markdown",
   "id": "b4c6304a",
   "metadata": {},
   "source": [
    "Show how many non-null values are in the nations dataset."
   ]
  },
  {
   "cell_type": "code",
   "execution_count": 6,
   "id": "1d4a1b11",
   "metadata": {},
   "outputs": [
    {
     "name": "stdout",
     "output_type": "stream",
     "text": [
      "<class 'pandas.core.frame.DataFrame'>\n",
      "RangeIndex: 194 entries, 0 to 193\n",
      "Data columns (total 13 columns):\n",
      " #   Column                Non-Null Count  Dtype  \n",
      "---  ------                --------------  -----  \n",
      " 0   country               194 non-null    object \n",
      " 1   region                194 non-null    object \n",
      " 2   pib                   179 non-null    float64\n",
      " 3   years_school          188 non-null    float64\n",
      " 4   adfert                194 non-null    float64\n",
      " 5   chldmort              193 non-null    float64\n",
      " 6   life_expectancy       194 non-null    float64\n",
      " 7   population            194 non-null    int64  \n",
      " 8   urban                 194 non-null    float64\n",
      " 9   rate_M/W_laborMarket  177 non-null    float64\n",
      " 10  literacy              135 non-null    float64\n",
      " 11  co2                   185 non-null    float64\n",
      " 12  income_inequality     81 non-null     float64\n",
      "dtypes: float64(10), int64(1), object(2)\n",
      "memory usage: 19.8+ KB\n"
     ]
    }
   ],
   "source": [
    "# Show how many non-null values are\n",
    "datasetNations.info()"
   ]
  },
  {
   "cell_type": "code",
   "execution_count": 7,
   "id": "d09e4c3f",
   "metadata": {
    "scrolled": true
   },
   "outputs": [
    {
     "data": {
      "text/html": [
       "<div>\n",
       "<style scoped>\n",
       "    .dataframe tbody tr th:only-of-type {\n",
       "        vertical-align: middle;\n",
       "    }\n",
       "\n",
       "    .dataframe tbody tr th {\n",
       "        vertical-align: top;\n",
       "    }\n",
       "\n",
       "    .dataframe thead th {\n",
       "        text-align: right;\n",
       "    }\n",
       "</style>\n",
       "<table border=\"1\" class=\"dataframe\">\n",
       "  <thead>\n",
       "    <tr style=\"text-align: right;\">\n",
       "      <th></th>\n",
       "      <th>pib</th>\n",
       "      <th>years_school</th>\n",
       "      <th>adfert</th>\n",
       "      <th>chldmort</th>\n",
       "      <th>life_expectancy</th>\n",
       "      <th>population</th>\n",
       "      <th>urban</th>\n",
       "      <th>rate_M/W_laborMarket</th>\n",
       "      <th>literacy</th>\n",
       "      <th>co2</th>\n",
       "      <th>income_inequality</th>\n",
       "    </tr>\n",
       "  </thead>\n",
       "  <tbody>\n",
       "    <tr>\n",
       "      <th>count</th>\n",
       "      <td>179.000000</td>\n",
       "      <td>188.000000</td>\n",
       "      <td>194.000000</td>\n",
       "      <td>193.000000</td>\n",
       "      <td>194.000000</td>\n",
       "      <td>1.940000e+02</td>\n",
       "      <td>194.000000</td>\n",
       "      <td>177.000000</td>\n",
       "      <td>135.000000</td>\n",
       "      <td>185.000000</td>\n",
       "      <td>81.000000</td>\n",
       "    </tr>\n",
       "    <tr>\n",
       "      <th>mean</th>\n",
       "      <td>12118.739193</td>\n",
       "      <td>7.459220</td>\n",
       "      <td>51.814433</td>\n",
       "      <td>47.650259</td>\n",
       "      <td>68.729295</td>\n",
       "      <td>3.437752e+07</td>\n",
       "      <td>55.434880</td>\n",
       "      <td>0.691606</td>\n",
       "      <td>81.533148</td>\n",
       "      <td>17.885946</td>\n",
       "      <td>40.477778</td>\n",
       "    </tr>\n",
       "    <tr>\n",
       "      <th>std</th>\n",
       "      <td>13942.341217</td>\n",
       "      <td>2.959589</td>\n",
       "      <td>44.066120</td>\n",
       "      <td>52.809400</td>\n",
       "      <td>10.055404</td>\n",
       "      <td>1.314004e+08</td>\n",
       "      <td>23.439101</td>\n",
       "      <td>0.182871</td>\n",
       "      <td>19.466359</td>\n",
       "      <td>25.670704</td>\n",
       "      <td>8.487874</td>\n",
       "    </tr>\n",
       "    <tr>\n",
       "      <th>min</th>\n",
       "      <td>279.799988</td>\n",
       "      <td>1.150000</td>\n",
       "      <td>1.000000</td>\n",
       "      <td>2.250000</td>\n",
       "      <td>45.849998</td>\n",
       "      <td>9.767000e+03</td>\n",
       "      <td>10.250000</td>\n",
       "      <td>0.194200</td>\n",
       "      <td>23.600000</td>\n",
       "      <td>0.100000</td>\n",
       "      <td>19.000000</td>\n",
       "    </tr>\n",
       "    <tr>\n",
       "      <th>25%</th>\n",
       "      <td>2100.300049</td>\n",
       "      <td>5.225000</td>\n",
       "      <td>16.500000</td>\n",
       "      <td>10.250000</td>\n",
       "      <td>63.745833</td>\n",
       "      <td>1.483754e+06</td>\n",
       "      <td>36.325000</td>\n",
       "      <td>0.578200</td>\n",
       "      <td>70.099998</td>\n",
       "      <td>2.250000</td>\n",
       "      <td>34.000000</td>\n",
       "    </tr>\n",
       "    <tr>\n",
       "      <th>50%</th>\n",
       "      <td>6932.799805</td>\n",
       "      <td>7.950000</td>\n",
       "      <td>39.350000</td>\n",
       "      <td>24.000000</td>\n",
       "      <td>72.183331</td>\n",
       "      <td>6.784909e+06</td>\n",
       "      <td>56.475000</td>\n",
       "      <td>0.730400</td>\n",
       "      <td>89.699997</td>\n",
       "      <td>8.450000</td>\n",
       "      <td>39.700001</td>\n",
       "    </tr>\n",
       "    <tr>\n",
       "      <th>75%</th>\n",
       "      <td>17576.299805</td>\n",
       "      <td>9.850000</td>\n",
       "      <td>74.375002</td>\n",
       "      <td>69.750000</td>\n",
       "      <td>75.545835</td>\n",
       "      <td>2.225532e+07</td>\n",
       "      <td>73.483334</td>\n",
       "      <td>0.820600</td>\n",
       "      <td>97.699997</td>\n",
       "      <td>25.000000</td>\n",
       "      <td>46.200001</td>\n",
       "    </tr>\n",
       "    <tr>\n",
       "      <th>max</th>\n",
       "      <td>74906.000000</td>\n",
       "      <td>12.700000</td>\n",
       "      <td>207.100006</td>\n",
       "      <td>209.000000</td>\n",
       "      <td>82.766663</td>\n",
       "      <td>1.324696e+09</td>\n",
       "      <td>100.000000</td>\n",
       "      <td>1.034400</td>\n",
       "      <td>100.000000</td>\n",
       "      <td>210.649994</td>\n",
       "      <td>58.500000</td>\n",
       "    </tr>\n",
       "  </tbody>\n",
       "</table>\n",
       "</div>"
      ],
      "text/plain": [
       "                pib  years_school      adfert    chldmort  life_expectancy  \\\n",
       "count    179.000000    188.000000  194.000000  193.000000       194.000000   \n",
       "mean   12118.739193      7.459220   51.814433   47.650259        68.729295   \n",
       "std    13942.341217      2.959589   44.066120   52.809400        10.055404   \n",
       "min      279.799988      1.150000    1.000000    2.250000        45.849998   \n",
       "25%     2100.300049      5.225000   16.500000   10.250000        63.745833   \n",
       "50%     6932.799805      7.950000   39.350000   24.000000        72.183331   \n",
       "75%    17576.299805      9.850000   74.375002   69.750000        75.545835   \n",
       "max    74906.000000     12.700000  207.100006  209.000000        82.766663   \n",
       "\n",
       "         population       urban  rate_M/W_laborMarket    literacy         co2  \\\n",
       "count  1.940000e+02  194.000000            177.000000  135.000000  185.000000   \n",
       "mean   3.437752e+07   55.434880              0.691606   81.533148   17.885946   \n",
       "std    1.314004e+08   23.439101              0.182871   19.466359   25.670704   \n",
       "min    9.767000e+03   10.250000              0.194200   23.600000    0.100000   \n",
       "25%    1.483754e+06   36.325000              0.578200   70.099998    2.250000   \n",
       "50%    6.784909e+06   56.475000              0.730400   89.699997    8.450000   \n",
       "75%    2.225532e+07   73.483334              0.820600   97.699997   25.000000   \n",
       "max    1.324696e+09  100.000000              1.034400  100.000000  210.649994   \n",
       "\n",
       "       income_inequality  \n",
       "count          81.000000  \n",
       "mean           40.477778  \n",
       "std             8.487874  \n",
       "min            19.000000  \n",
       "25%            34.000000  \n",
       "50%            39.700001  \n",
       "75%            46.200001  \n",
       "max            58.500000  "
      ]
     },
     "execution_count": 7,
     "metadata": {},
     "output_type": "execute_result"
    }
   ],
   "source": [
    "# Calculate basic statistics of numeric attributes\n",
    "datasetNations.describe()"
   ]
  },
  {
   "cell_type": "markdown",
   "id": "99ae5d9b",
   "metadata": {},
   "source": [
    "Identify which countries are above or below the co2 average. Then, it can be concluded that 130 countries are below the average in terms of CO2 emissions, so around 33% of the total countries are above average in CO2 emissions."
   ]
  },
  {
   "cell_type": "code",
   "execution_count": 8,
   "id": "9370f8a5",
   "metadata": {},
   "outputs": [
    {
     "data": {
      "text/html": [
       "<div>\n",
       "<style scoped>\n",
       "    .dataframe tbody tr th:only-of-type {\n",
       "        vertical-align: middle;\n",
       "    }\n",
       "\n",
       "    .dataframe tbody tr th {\n",
       "        vertical-align: top;\n",
       "    }\n",
       "\n",
       "    .dataframe thead th {\n",
       "        text-align: right;\n",
       "    }\n",
       "</style>\n",
       "<table border=\"1\" class=\"dataframe\">\n",
       "  <thead>\n",
       "    <tr style=\"text-align: right;\">\n",
       "      <th></th>\n",
       "      <th>country</th>\n",
       "      <th>region</th>\n",
       "      <th>pib</th>\n",
       "      <th>years_school</th>\n",
       "      <th>adfert</th>\n",
       "      <th>chldmort</th>\n",
       "      <th>life_expectancy</th>\n",
       "      <th>population</th>\n",
       "      <th>urban</th>\n",
       "      <th>rate_M/W_laborMarket</th>\n",
       "      <th>literacy</th>\n",
       "      <th>co2</th>\n",
       "      <th>income_inequality</th>\n",
       "      <th>under_above_co2</th>\n",
       "    </tr>\n",
       "  </thead>\n",
       "  <tbody>\n",
       "    <tr>\n",
       "      <th>0</th>\n",
       "      <td>Algeria</td>\n",
       "      <td>Africa</td>\n",
       "      <td>7300.399902</td>\n",
       "      <td>6.716667</td>\n",
       "      <td>7.300000</td>\n",
       "      <td>34.75</td>\n",
       "      <td>72.316666</td>\n",
       "      <td>34172236</td>\n",
       "      <td>64.933334</td>\n",
       "      <td>0.4522</td>\n",
       "      <td>72.599998</td>\n",
       "      <td>15.0</td>\n",
       "      <td>NaN</td>\n",
       "      <td>Below average</td>\n",
       "    </tr>\n",
       "    <tr>\n",
       "      <th>1</th>\n",
       "      <td>Benin</td>\n",
       "      <td>Africa</td>\n",
       "      <td>1338.800049</td>\n",
       "      <td>3.100000</td>\n",
       "      <td>111.699997</td>\n",
       "      <td>122.75</td>\n",
       "      <td>54.733334</td>\n",
       "      <td>8237634</td>\n",
       "      <td>41.000000</td>\n",
       "      <td>0.8482</td>\n",
       "      <td>41.700001</td>\n",
       "      <td>1.2</td>\n",
       "      <td>NaN</td>\n",
       "      <td>Below average</td>\n",
       "    </tr>\n",
       "    <tr>\n",
       "      <th>2</th>\n",
       "      <td>Botswana</td>\n",
       "      <td>Africa</td>\n",
       "      <td>12307.400391</td>\n",
       "      <td>8.600000</td>\n",
       "      <td>52.099998</td>\n",
       "      <td>60.25</td>\n",
       "      <td>52.250000</td>\n",
       "      <td>1941233</td>\n",
       "      <td>59.250000</td>\n",
       "      <td>0.8870</td>\n",
       "      <td>84.099998</td>\n",
       "      <td>9.2</td>\n",
       "      <td>NaN</td>\n",
       "      <td>Below average</td>\n",
       "    </tr>\n",
       "    <tr>\n",
       "      <th>3</th>\n",
       "      <td>Burkina Faso</td>\n",
       "      <td>Africa</td>\n",
       "      <td>1063.400024</td>\n",
       "      <td>1.300000</td>\n",
       "      <td>124.800003</td>\n",
       "      <td>170.50</td>\n",
       "      <td>53.783333</td>\n",
       "      <td>15308383</td>\n",
       "      <td>23.583334</td>\n",
       "      <td>0.8584</td>\n",
       "      <td>23.600000</td>\n",
       "      <td>0.2</td>\n",
       "      <td>NaN</td>\n",
       "      <td>Below average</td>\n",
       "    </tr>\n",
       "    <tr>\n",
       "      <th>4</th>\n",
       "      <td>Burundi</td>\n",
       "      <td>Africa</td>\n",
       "      <td>349.200012</td>\n",
       "      <td>2.483333</td>\n",
       "      <td>18.600000</td>\n",
       "      <td>168.50</td>\n",
       "      <td>48.866665</td>\n",
       "      <td>7821783</td>\n",
       "      <td>10.250000</td>\n",
       "      <td>1.0344</td>\n",
       "      <td>66.599998</td>\n",
       "      <td>0.1</td>\n",
       "      <td>33.299999</td>\n",
       "      <td>Below average</td>\n",
       "    </tr>\n",
       "  </tbody>\n",
       "</table>\n",
       "</div>"
      ],
      "text/plain": [
       "        country  region           pib  years_school      adfert  chldmort  \\\n",
       "0       Algeria  Africa   7300.399902      6.716667    7.300000     34.75   \n",
       "1         Benin  Africa   1338.800049      3.100000  111.699997    122.75   \n",
       "2      Botswana  Africa  12307.400391      8.600000   52.099998     60.25   \n",
       "3  Burkina Faso  Africa   1063.400024      1.300000  124.800003    170.50   \n",
       "4       Burundi  Africa    349.200012      2.483333   18.600000    168.50   \n",
       "\n",
       "   life_expectancy  population      urban  rate_M/W_laborMarket   literacy  \\\n",
       "0        72.316666    34172236  64.933334                0.4522  72.599998   \n",
       "1        54.733334     8237634  41.000000                0.8482  41.700001   \n",
       "2        52.250000     1941233  59.250000                0.8870  84.099998   \n",
       "3        53.783333    15308383  23.583334                0.8584  23.600000   \n",
       "4        48.866665     7821783  10.250000                1.0344  66.599998   \n",
       "\n",
       "    co2  income_inequality under_above_co2  \n",
       "0  15.0                NaN   Below average  \n",
       "1   1.2                NaN   Below average  \n",
       "2   9.2                NaN   Below average  \n",
       "3   0.2                NaN   Below average  \n",
       "4   0.1          33.299999   Below average  "
      ]
     },
     "execution_count": 8,
     "metadata": {},
     "output_type": "execute_result"
    }
   ],
   "source": [
    "# Identify which countries are below the average and which countries are above the average\n",
    "datasetNations[\"under_above_co2\"] = np.where(datasetNations[\"co2\"] > datasetNations[\"co2\"].mean(), \"Above average\", \"Below average\")\n",
    "datasetNations.head()"
   ]
  },
  {
   "cell_type": "code",
   "execution_count": 9,
   "id": "a476e60a",
   "metadata": {},
   "outputs": [
    {
     "data": {
      "text/plain": [
       "Below average    130\n",
       "Above average     64\n",
       "Name: under_above_co2, dtype: int64"
      ]
     },
     "execution_count": 9,
     "metadata": {},
     "output_type": "execute_result"
    }
   ],
   "source": [
    "datasetNations[\"under_above_co2\"].value_counts()"
   ]
  },
  {
   "cell_type": "markdown",
   "id": "8989aa6f",
   "metadata": {},
   "source": []
  },
  {
   "cell_type": "code",
   "execution_count": 10,
   "id": "eb36377a",
   "metadata": {
    "scrolled": false
   },
   "outputs": [
    {
     "data": {
      "text/plain": [
       "Text(0.5, 1.0, 'Histogram - Income Inequality\\n')"
      ]
     },
     "execution_count": 10,
     "metadata": {},
     "output_type": "execute_result"
    },
    {
     "data": {
      "image/png": "[encoded data removed]",
      "text/plain": [
       "<Figure size 360x360 with 1 Axes>"
      ]
     },
     "metadata": {
      "needs_background": "light"
     },
     "output_type": "display_data"
    }
   ],
   "source": [
    "# Histogram -income inequality data distribution. Red line shows income inequality average.\n",
    "sns.displot(datasetNations[\"income_inequality\"], kind = \"hist\")\n",
    "plt.axvline(datasetNations[\"income_inequality\"].mean(), color = \"red\")\n",
    "plt.title(\"Histogram - Income Inequality\\n\")"
   ]
  },
  {
   "cell_type": "markdown",
   "id": "fc0000c7",
   "metadata": {},
   "source": [
    "Through this bar graph, you can clearly see that infant mortality on the continent of Africa is outrageous compared to Europe. \n",
    "\n",
    "In **European** countries, the average mortality at these young ages does not even reach 10%, it remains at **7%**, while in **Africa** this average **exceeds 100%**, that is, a clear difference that may be due to several factors. that cannot be known with the data set being analyzed."
   ]
  },
  {
   "cell_type": "code",
   "execution_count": 11,
   "id": "ffcc07f4",
   "metadata": {
    "scrolled": false
   },
   "outputs": [
    {
     "name": "stdout",
     "output_type": "stream",
     "text": [
      "109.75\n",
      "7.046511627906977\n"
     ]
    },
    {
     "name": "stderr",
     "output_type": "stream",
     "text": [
      "C:\\Users\\zorri\\anaconda3\\lib\\site-packages\\seaborn\\_decorators.py:36: FutureWarning: Pass the following variables as keyword args: x, y. From version 0.12, the only valid positional argument will be `data`, and passing other arguments without an explicit keyword will result in an error or misinterpretation.\n",
      "  warnings.warn(\n"
     ]
    },
    {
     "data": {
      "text/plain": [
       "Text(0.5, 1.0, 'Child Mortality Comparison: Europe vs. Africa\\n')"
      ]
     },
     "execution_count": 11,
     "metadata": {},
     "output_type": "execute_result"
    },
    {
     "data": {
      "image/png": "[encoded data removed]",
      "text/plain": [
       "<Figure size 432x288 with 1 Axes>"
      ]
     },
     "metadata": {
      "needs_background": "light"
     },
     "output_type": "display_data"
    }
   ],
   "source": [
    "# Child mortality between Africa and Europe\n",
    "datasetAfrica = datasetNations[datasetNations[\"region\"]==\"Africa\"]\n",
    "datasetEurope = datasetNations[datasetNations[\"region\"]==\"Europe\"]\n",
    "\n",
    "africa_average = datasetAfrica[\"chldmort\"].mean()\n",
    "europe_average = datasetEurope[\"chldmort\"].mean()\n",
    "\n",
    "print(africa_average)\n",
    "print(europe_average)\n",
    "\n",
    "sns.barplot(([\"Europe\", \"Africa\"]), ([europe_average, africa_average]))\n",
    "plt.title(\"Child Mortality Comparison: Europe vs. Africa\\n\")"
   ]
  },
  {
   "cell_type": "code",
   "execution_count": 12,
   "id": "b6d08869",
   "metadata": {
    "scrolled": true
   },
   "outputs": [
    {
     "data": {
      "text/plain": [
       "Text(0.5, 1.0, 'Box plot: Scholarship distribution per region\\n')"
      ]
     },
     "execution_count": 12,
     "metadata": {},
     "output_type": "execute_result"
    },
    {
     "data": {
      "image/png": "[encoded data removed]",
      "text/plain": [
       "<Figure size 432x288 with 1 Axes>"
      ]
     },
     "metadata": {
      "needs_background": "light"
     },
     "output_type": "display_data"
    }
   ],
   "source": [
    "# Scholarity distribution per region\n",
    "sns.boxplot(x = datasetNations[\"region\"], y = datasetNations[\"years_school\"])\n",
    "plt.title(\"Box plot: Scholarship distribution per region\\n\")"
   ]
  },
  {
   "cell_type": "markdown",
   "id": "5d482971",
   "metadata": {},
   "source": [
    "To make a correct scatterplot it is necessary to eliminate null values from the data set.\n",
    "\n",
    "Then, the schooling rates are graphed against literacy.\n",
    "\n",
    "And it can be concluded that **the more years in school, the higher the level of literacy**. This is logical and ideal, since spending time at school is synonymous with learning and achieving a higher level of literacy."
   ]
  },
  {
   "cell_type": "code",
   "execution_count": 13,
   "id": "71092644",
   "metadata": {},
   "outputs": [
    {
     "data": {
      "text/html": [
       "<div>\n",
       "<style scoped>\n",
       "    .dataframe tbody tr th:only-of-type {\n",
       "        vertical-align: middle;\n",
       "    }\n",
       "\n",
       "    .dataframe tbody tr th {\n",
       "        vertical-align: top;\n",
       "    }\n",
       "\n",
       "    .dataframe thead th {\n",
       "        text-align: right;\n",
       "    }\n",
       "</style>\n",
       "<table border=\"1\" class=\"dataframe\">\n",
       "  <thead>\n",
       "    <tr style=\"text-align: right;\">\n",
       "      <th></th>\n",
       "      <th>country</th>\n",
       "      <th>region</th>\n",
       "      <th>pib</th>\n",
       "      <th>years_school</th>\n",
       "      <th>adfert</th>\n",
       "      <th>chldmort</th>\n",
       "      <th>life_expectancy</th>\n",
       "      <th>population</th>\n",
       "      <th>urban</th>\n",
       "      <th>rate_M/W_laborMarket</th>\n",
       "      <th>literacy</th>\n",
       "      <th>co2</th>\n",
       "      <th>income_inequality</th>\n",
       "      <th>under_above_co2</th>\n",
       "    </tr>\n",
       "  </thead>\n",
       "  <tbody>\n",
       "    <tr>\n",
       "      <th>4</th>\n",
       "      <td>Burundi</td>\n",
       "      <td>Africa</td>\n",
       "      <td>349.200012</td>\n",
       "      <td>2.483333</td>\n",
       "      <td>18.600000</td>\n",
       "      <td>168.50</td>\n",
       "      <td>48.866665</td>\n",
       "      <td>7821783</td>\n",
       "      <td>10.250000</td>\n",
       "      <td>1.0344</td>\n",
       "      <td>66.599998</td>\n",
       "      <td>0.10</td>\n",
       "      <td>33.299999</td>\n",
       "      <td>Below average</td>\n",
       "    </tr>\n",
       "    <tr>\n",
       "      <th>11</th>\n",
       "      <td>Congo (Dem Rep)</td>\n",
       "      <td>Africa</td>\n",
       "      <td>279.799988</td>\n",
       "      <td>3.416667</td>\n",
       "      <td>201.399994</td>\n",
       "      <td>199.00</td>\n",
       "      <td>47.516666</td>\n",
       "      <td>61654348</td>\n",
       "      <td>33.633331</td>\n",
       "      <td>0.6552</td>\n",
       "      <td>66.800003</td>\n",
       "      <td>0.10</td>\n",
       "      <td>44.400002</td>\n",
       "      <td>Below average</td>\n",
       "    </tr>\n",
       "    <tr>\n",
       "      <th>12</th>\n",
       "      <td>Côte d'Ivoire</td>\n",
       "      <td>Africa</td>\n",
       "      <td>1539.199951</td>\n",
       "      <td>3.200000</td>\n",
       "      <td>129.399994</td>\n",
       "      <td>123.25</td>\n",
       "      <td>53.049999</td>\n",
       "      <td>18844750</td>\n",
       "      <td>48.666664</td>\n",
       "      <td>0.6132</td>\n",
       "      <td>55.299999</td>\n",
       "      <td>1.45</td>\n",
       "      <td>46.099998</td>\n",
       "      <td>Below average</td>\n",
       "    </tr>\n",
       "    <tr>\n",
       "      <th>14</th>\n",
       "      <td>Egypt</td>\n",
       "      <td>Africa</td>\n",
       "      <td>4754.399902</td>\n",
       "      <td>5.950000</td>\n",
       "      <td>46.599998</td>\n",
       "      <td>24.75</td>\n",
       "      <td>72.333336</td>\n",
       "      <td>77645648</td>\n",
       "      <td>43.183334</td>\n",
       "      <td>0.3092</td>\n",
       "      <td>68.900002</td>\n",
       "      <td>8.45</td>\n",
       "      <td>32.099998</td>\n",
       "      <td>Below average</td>\n",
       "    </tr>\n",
       "    <tr>\n",
       "      <th>17</th>\n",
       "      <td>Ethiopia</td>\n",
       "      <td>Africa</td>\n",
       "      <td>741.400024</td>\n",
       "      <td>1.500000</td>\n",
       "      <td>72.400002</td>\n",
       "      <td>112.00</td>\n",
       "      <td>57.049999</td>\n",
       "      <td>78593232</td>\n",
       "      <td>16.283333</td>\n",
       "      <td>0.8700</td>\n",
       "      <td>29.799999</td>\n",
       "      <td>0.30</td>\n",
       "      <td>29.799999</td>\n",
       "      <td>Below average</td>\n",
       "    </tr>\n",
       "  </tbody>\n",
       "</table>\n",
       "</div>"
      ],
      "text/plain": [
       "            country  region          pib  years_school      adfert  chldmort  \\\n",
       "4           Burundi  Africa   349.200012      2.483333   18.600000    168.50   \n",
       "11  Congo (Dem Rep)  Africa   279.799988      3.416667  201.399994    199.00   \n",
       "12    Côte d'Ivoire  Africa  1539.199951      3.200000  129.399994    123.25   \n",
       "14            Egypt  Africa  4754.399902      5.950000   46.599998     24.75   \n",
       "17         Ethiopia  Africa   741.400024      1.500000   72.400002    112.00   \n",
       "\n",
       "    life_expectancy  population      urban  rate_M/W_laborMarket   literacy  \\\n",
       "4         48.866665     7821783  10.250000                1.0344  66.599998   \n",
       "11        47.516666    61654348  33.633331                0.6552  66.800003   \n",
       "12        53.049999    18844750  48.666664                0.6132  55.299999   \n",
       "14        72.333336    77645648  43.183334                0.3092  68.900002   \n",
       "17        57.049999    78593232  16.283333                0.8700  29.799999   \n",
       "\n",
       "     co2  income_inequality under_above_co2  \n",
       "4   0.10          33.299999   Below average  \n",
       "11  0.10          44.400002   Below average  \n",
       "12  1.45          46.099998   Below average  \n",
       "14  8.45          32.099998   Below average  \n",
       "17  0.30          29.799999   Below average  "
      ]
     },
     "execution_count": 13,
     "metadata": {},
     "output_type": "execute_result"
    }
   ],
   "source": [
    "# Drop null values\n",
    "datasetNationsNotNull = datasetNations.dropna()\n",
    "datasetNationsNotNull.head()"
   ]
  },
  {
   "cell_type": "code",
   "execution_count": 14,
   "id": "2d31adca",
   "metadata": {
    "scrolled": true
   },
   "outputs": [
    {
     "data": {
      "text/plain": [
       "Text(0.5, 1.0, 'Dispersion diagram: Scholarship rate vs Literacy rate\\n')"
      ]
     },
     "execution_count": 14,
     "metadata": {},
     "output_type": "execute_result"
    },
    {
     "data": {
      "image/png": "[encoded data removed]",
      "text/plain": [
       "<Figure size 432x288 with 1 Axes>"
      ]
     },
     "metadata": {
      "needs_background": "light"
     },
     "output_type": "display_data"
    }
   ],
   "source": [
    "# Dispersion diagram between scholarship and literacy rate\n",
    "sns.scatterplot(x = datasetNationsNotNull[\"years_school\"], y = datasetNationsNotNull[\"literacy\"])\n",
    "plt.title(\"Dispersion diagram: Scholarship rate vs Literacy rate\\n\")"
   ]
  },
  {
   "cell_type": "markdown",
   "id": "d99d8f81",
   "metadata": {},
   "source": [
    "Thanks to the **correlation matrix**, all the variables existing in the selected data set can be compared and thus be able to relate each of the variables to carry out adequate monitoring to analyze different characteristics. It should be noted that the more intensity the green color has, it means that there is a greater correlation between the pair of variables. However, the lower the intensity of the color, the lower the level of correlation will be."
   ]
  },
  {
   "cell_type": "code",
   "execution_count": 15,
   "id": "d364e457",
   "metadata": {},
   "outputs": [
    {
     "data": {
      "text/plain": [
       "Text(0.5, 1.0, 'Correlation matrix\\n')"
      ]
     },
     "execution_count": 15,
     "metadata": {},
     "output_type": "execute_result"
    },
    {
     "data": {
      "image/png": "[encoded data removed]",
      "text/plain": [
       "<Figure size 720x720 with 2 Axes>"
      ]
     },
     "metadata": {
      "needs_background": "light"
     },
     "output_type": "display_data"
    }
   ],
   "source": [
    "# Correlation matrix\n",
    "correlationTable = datasetNations.corr()\n",
    "plt.rcParams[\"figure.figsize\"] = (10, 10)\n",
    "sns.heatmap(correlationTable, cmap = \"Greens\", annot = True)\n",
    "plt.title(\"Correlation matrix\\n\")"
   ]
  }
 ],
 "metadata": {
  "kernelspec": {
   "display_name": "Python 3 (ipykernel)",
   "language": "python",
   "name": "python3"
  },
  "language_info": {
   "codemirror_mode": {
    "name": "ipython",
    "version": 3
   },
   "file_extension": ".py",
   "mimetype": "text/x-python",
   "name": "python",
   "nbconvert_exporter": "python",
   "pygments_lexer": "ipython3",
   "version": "3.9.7"
  }
 },
 "nbformat": 4,
 "nbformat_minor": 5
}
